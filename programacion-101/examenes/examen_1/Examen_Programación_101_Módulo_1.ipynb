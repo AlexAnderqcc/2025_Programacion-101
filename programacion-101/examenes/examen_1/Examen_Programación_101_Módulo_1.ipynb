{
  "nbformat": 4,
  "nbformat_minor": 0,
  "metadata": {
    "colab": {
      "provenance": [],
      "include_colab_link": true
    },
    "kernelspec": {
      "name": "python3",
      "display_name": "Python 3"
    },
    "language_info": {
      "name": "python"
    }
  },
  "cells": [
    {
      "cell_type": "markdown",
      "metadata": {
        "id": "view-in-github",
        "colab_type": "text"
      },
      "source": [
        "<a href=\"https://colab.research.google.com/github/AlexAnderqcc/2025_Programacion-101/blob/main/programacion-101/examenes/examen_1/Examen_Programaci%C3%B3n_101_M%C3%B3dulo_1.ipynb\" target=\"_parent\"><img src=\"https://colab.research.google.com/assets/colab-badge.svg\" alt=\"Open In Colab\"/></a>"
      ]
    },
    {
      "cell_type": "markdown",
      "source": [
        "<img src=\"https://posgrado.utec.edu.pe/sites/default/files/2023-08/Testimonial-home-2.jpg\" alt=\"HTML5 Icon\" width=\"900\" height=\"250\" >\n"
      ],
      "metadata": {
        "id": "ub41hbIV6UQ6"
      }
    },
    {
      "cell_type": "markdown",
      "source": [
        "#**Examen Programación 101 – Módulo 1**\n"
      ],
      "metadata": {
        "id": "zpZSxKDI51_7"
      }
    },
    {
      "cell_type": "markdown",
      "source": [
        "**Contexto**\n",
        "\n",
        "Estás colaborando en el diseño de un sistema básico de autenticación y validación de datos para una empresa tecnológica en expansión. El sistema debe realizar verificaciones fundamentales sobre usuarios, contraseñas, códigos de acceso e identificadores, utilizando únicamente estructuras condicionales y operaciones básicas, dado que el prototipo está pensado para funcionar en dispositivos con capacidad de cómputo muy limitada.\n",
        "\n",
        "Cada pregunta del examen representa uno de los desafíos que debes resolver en este sistema: desde validar un código, clasificar niveles de acceso, hasta verificar si una entrada cumple con múltiples criterios simultáneamente."
      ],
      "metadata": {
        "id": "qphDGB6eAe-K"
      }
    },
    {
      "cell_type": "markdown",
      "source": [
        "\n",
        "\n",
        "**Nombre y Apellido:**\n",
        "\n",
        "---"
      ],
      "metadata": {
        "id": "_MYFZY5D97r5"
      }
    },
    {
      "cell_type": "markdown",
      "source": [
        "Duración: 45 minutos\n",
        "\n",
        "**Instrucciones**\n",
        "\n",
        "1. No está permitido el uso de funciones (def), bucles (for, while)\n",
        "\n",
        "2. Puedes utilizar:\n",
        "\n",
        "  * Asignación de variables\n",
        "  * Operadores aritméticos y lógicos\n",
        "  * Condicionales (if, elif, else)\n",
        "  * Funciones input() y print()\n",
        "\n",
        "3. Se evaluará no solo la respuesta correcta, sino también la claridad, buenas prácticas, uso correcto de tipos de datos y estructura lógica.\n",
        "\n",
        "---"
      ],
      "metadata": {
        "id": "VInsS6-u7MUH"
      }
    },
    {
      "cell_type": "markdown",
      "source": [
        "**Pregunta 1: Validación de Usuario**\n"
      ],
      "metadata": {
        "id": "xVGPY6H68IO_"
      }
    },
    {
      "cell_type": "markdown",
      "source": [
        "Escribe un programa que valide un usuario según estas reglas:\n",
        "\n",
        "* El usuario debe tener exactamente 5 caracteres.\n",
        "* El primer carácter debe ser mayúscula.\n",
        "* El último carácter debe ser un número.\n",
        "\n",
        "Imprime \"Usuario válido\" o \"Usuario inválido\" según corresponda."
      ],
      "metadata": {
        "id": "2mSAVboy8Q6m"
      }
    },
    {
      "cell_type": "code",
      "execution_count": 18,
      "metadata": {
        "id": "mOSniL8V5jR4",
        "colab": {
          "base_uri": "https://localhost:8080/"
        },
        "outputId": "9c5436af-72ca-4a8d-f402-e81c1fd9d524"
      },
      "outputs": [
        {
          "output_type": "stream",
          "name": "stdout",
          "text": [
            "Ingresa un nombre: Alex3\n",
            "Usuario valido\n"
          ]
        }
      ],
      "source": [
        "# Your code starts here\n",
        "# user_example: usuario = \"A12b4\"\n",
        "# correo : jcaballero@utec.edu.pe\n",
        "nombre= input(\"Ingresa un nombre: \") #pedimo que ingrese usuario\n",
        "if (len(nombre)==5) and  'A' <= nombre[0] <= 'Z' and '0' <= nombre[4] <= '9':\n",
        "  print (\"Usuario valido\")\n",
        "else:\n",
        "  print (\"Usuario invalido\")\n",
        "\n",
        "\n",
        "# Your code ends here"
      ]
    },
    {
      "cell_type": "markdown",
      "source": [
        "**Pregunta 2: Nivel de Seguridad Numérico**\n",
        "\n",
        "Pide tres dígitos separados al usuario usando input(). Luego:\n",
        "\n",
        "* Imprime \"ALTO\" si los tres dígitos son diferentes.\n",
        "* Imprime \"MEDIO\" si solo dos son iguales.\n",
        "* Imprime \"BAJO\" si los tres son iguales."
      ],
      "metadata": {
        "id": "ZI1HrCRe8uU6"
      }
    },
    {
      "cell_type": "code",
      "source": [
        "# Your code starts here\n",
        "numero1= input(\"Ingresa 1er numero: \")\n",
        "numero2= input(\"Ingresa 2do numero: \")\n",
        "numero3= input(\"Ingresa 3er numero: \")\n",
        "if numero1 != numero2 != numero3 :\n",
        "  print (\"ALTO\")\n",
        "else:\n",
        "    if numero1 == numero2 and numero2 == numero3 :\n",
        "      print (\"BAJO\")\n",
        "    else:\n",
        "\n",
        "     if numero1 == numero2 or numero1 == numero3 or numero2==numero3:\n",
        "       print (\"MEDIO\")\n",
        "# Your code ends here"
      ],
      "metadata": {
        "id": "hEUnfNCK88lF",
        "colab": {
          "base_uri": "https://localhost:8080/"
        },
        "outputId": "73254113-e5ec-40c7-ff86-46319520d8ac"
      },
      "execution_count": 16,
      "outputs": [
        {
          "output_type": "stream",
          "name": "stdout",
          "text": [
            "Ingresa 1er numero: 2\n",
            "Ingresa 2do numero: 2\n",
            "Ingresa 3er numero: 3\n",
            "MEDIO\n"
          ]
        }
      ]
    },
    {
      "cell_type": "markdown",
      "source": [
        "**Pregunta 3: Código de Acceso**\n",
        "\n",
        "Pide al usuario ingresar un número entero de tres dígitos.\n",
        "Verifica si la suma de sus tres dígitos es exactamente 10:\n",
        "\n",
        "* Si lo es, imprime \"Código válido\".\n",
        "* Si no, imprime \"Código inválido\"."
      ],
      "metadata": {
        "id": "DaAUaft_9DMe"
      }
    },
    {
      "cell_type": "code",
      "source": [
        "# Your code starts here\n",
        "\n",
        "numero= int(input(\"Ingresa un numero de 3 digitos: \"))\n",
        "centenas=numero//100\n",
        "decenas= (numero//10) %10\n",
        "unidades= numero %10\n",
        "if (unidades + decenas + centenas == 10):\n",
        "  print(\"Codigo valido\")\n",
        "else :\n",
        "  print(\"Codigo invalido\")\n",
        "# Your code ends here"
      ],
      "metadata": {
        "id": "Xa15jei89HaU",
        "colab": {
          "base_uri": "https://localhost:8080/"
        },
        "outputId": "3d68fe11-ecbf-49aa-b6d5-b19e0e34aaa1"
      },
      "execution_count": 13,
      "outputs": [
        {
          "output_type": "stream",
          "name": "stdout",
          "text": [
            "Ingresa un numero de 3 digitos: 455\n",
            "Codigo invalido\n"
          ]
        }
      ]
    },
    {
      "cell_type": "markdown",
      "source": [
        "**Pregunta 4: Identificador de carácter**\n",
        "\n",
        "Pide al usuario un solo carácter y determina:\n",
        "\n",
        "* Si es vocal minúscula → \"Vocal minúscula\"\n",
        "* Si es vocal mayúscula → \"Vocal MAYÚSCULA\"\n",
        "* Si es número → \"Número\"\n",
        "* En cualquier otro caso → \"Símbolo especial\""
      ],
      "metadata": {
        "id": "zHCprzaP9fpB"
      }
    },
    {
      "cell_type": "code",
      "source": [
        "# Your code starts here\n",
        "\n",
        "nombre= input(\"Ingresa un caracter: \") #pedimo que ingrese caracter\n",
        "if (len(nombre)==1) and  'A' <= nombre[0] <= 'Z' :\n",
        "  print (\"Vocal MAYÚSCULA\")\n",
        "else:\n",
        "  if (len(nombre)==1) and  'a' <= nombre[0] <= 'z' :\n",
        "    print (\"Vocal minúscula\")\n",
        "  else:\n",
        "    if (len(nombre)==1) and  '0' <= nombre[0] <= '9' :\n",
        "      print (\"Número\")\n",
        "    else:\n",
        "      print(\"Símbolo especial\")\n",
        "\n",
        "# Your code ends here"
      ],
      "metadata": {
        "id": "OvCpLVUT92uZ",
        "colab": {
          "base_uri": "https://localhost:8080/"
        },
        "outputId": "148d5ac1-f600-4a5c-f5b7-49cfbdad3e9b"
      },
      "execution_count": 21,
      "outputs": [
        {
          "output_type": "stream",
          "name": "stdout",
          "text": [
            "Ingresa un caracter: W\n",
            "Vocal MAYÚSCULA\n"
          ]
        }
      ]
    },
    {
      "cell_type": "markdown",
      "source": [
        "**Pregunta 5: Verificación cruzada de identidad**\n",
        "\n",
        "Un sistema de validación recibe los siguientes tres datos como entrada:\n",
        "\n",
        "\n",
        "1. Un código de 6 caracteres (ej. \"A1b2C3\")\n",
        "2. Un número de 3 cifras (ej. 528)\n",
        "3. Una letra (ej. \"b\")\n",
        "\n",
        "El programa debe:\n",
        "\n",
        "* Verificar si:\n",
        "\n",
        "  1. El primer carácter del código es una letra mayúscula,\n",
        "  2. El último carácter del código es un número,\n",
        "  3. La suma de los tres dígitos del número es par, y\n",
        "  4. La letra ingresada se encuentra dentro del código sin distinguir mayúsculas/minúsculas.\n",
        "\n",
        "* Si todas las condiciones se cumplen, imprimir: \"Identidad verificada\"\n",
        "\n",
        "* Si alguna no se cumple, imprimir: \"Acceso denegado\""
      ],
      "metadata": {
        "id": "FJyAxh0I-0N8"
      }
    },
    {
      "cell_type": "code",
      "source": [
        "# Your code starts here\n",
        "dato1= input(\"Ingresa Un código de 6 caracteres (ej. A1b2C3): \") #pedimos dato 1\n",
        "dato2= int(input(\"Ingresa Un número de 3 cifras (ej. 528): \")) #pedimos dato 2\n",
        "dato3= input(\"Ingresa Una letra (ej. b): \") #pedimos dato 3\n",
        "\n",
        "centenas= dato2 // 100\n",
        "decenas= (dato2//10) %10\n",
        "unidades= dato2 %10\n",
        "if 'A' <= dato1[0] <= 'Z' and '0' <= dato1[5] <= '9' and (centenas + decenas +unidades )%2 == 0 and (dato3 in dato1):\n",
        "  print(\"Identidad verificada\")\n",
        "else:\n",
        "  print(\"Acceso denegado\")\n",
        "\n",
        "# Your code ends here"
      ],
      "metadata": {
        "id": "Z16sSPRc_TDH",
        "colab": {
          "base_uri": "https://localhost:8080/"
        },
        "outputId": "ff43a1b1-40ec-41ef-e3a6-1913f42a909f"
      },
      "execution_count": 26,
      "outputs": [
        {
          "output_type": "stream",
          "name": "stdout",
          "text": [
            "Ingresa Un código de 6 caracteres (ej. A1b2C3): A1b2C3\n",
            "Ingresa Un número de 3 cifras (ej. 528): 222\n",
            "Ingresa Una letra (ej. b): b\n",
            "Identidad verificada\n"
          ]
        }
      ]
    },
    {
      "cell_type": "markdown",
      "source": [
        "---\n",
        "\n",
        "### Gracias por completar este examen!\n",
        "\n",
        "---\n"
      ],
      "metadata": {
        "id": "vWNdqa91-NiX"
      }
    }
  ]
}